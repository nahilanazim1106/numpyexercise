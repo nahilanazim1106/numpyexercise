{
 "cells": [
  {
   "cell_type": "code",
   "execution_count": 1,
   "id": "ba146289",
   "metadata": {},
   "outputs": [
    {
     "name": "stdout",
     "output_type": "stream",
     "text": [
      "[[ 1.]\n",
      " [-2.]\n",
      " [ 1.]]\n"
     ]
    }
   ],
   "source": [
    "import numpy as np\n",
    "\n",
    "# Define matrix A\n",
    "A = np.array([[3, 5, 9], [3, 3, 4], [5, 9, 17]])\n",
    "\n",
    "# Define matrix B\n",
    "B = np.array([[2], [1], [4]])\n",
    "\n",
    "# Solve the matrix equation Ax=B for x\n",
    "x = np.linalg.solve(A, B)\n",
    "\n",
    "# Print the result\n",
    "print(x)\n"
   ]
  },
  {
   "cell_type": "code",
   "execution_count": 2,
   "id": "9c216b8b",
   "metadata": {},
   "outputs": [
    {
     "name": "stdout",
     "output_type": "stream",
     "text": [
      "[[ 400 1521 1089]\n",
      " [ 625  625  784]]\n"
     ]
    }
   ],
   "source": [
    "import numpy as np\n",
    "\n",
    "# Define the input arrays\n",
    "arrayOne = np.array([[5, 6, 9], [21, 18, 27]])\n",
    "arrayTwo = np.array([[15, 33, 24], [4, 7, 1]])\n",
    "\n",
    "# Add the arrays\n",
    "resultArray = arrayOne + arrayTwo\n",
    "\n",
    "# Calculate the square of each element in the resulting array\n",
    "resultArray = np.square(resultArray)\n",
    "\n",
    "# Print the resulting array\n",
    "print(resultArray)\n"
   ]
  },
  {
   "cell_type": "code",
   "execution_count": 3,
   "id": "511b9485",
   "metadata": {},
   "outputs": [
    {
     "name": "stdout",
     "output_type": "stream",
     "text": [
      "Maximum element from axis 0: [82 94 73]\n",
      "Minimum element from axis 1: [34 12 53]\n"
     ]
    }
   ],
   "source": [
    "import numpy as np\n",
    "\n",
    "# Define the 2-D array\n",
    "sampleArray = np.array([[34, 43, 73], [82, 22, 12], [53, 94, 66]])\n",
    "\n",
    "# Find the maximum element from axis 0\n",
    "maxAxis0 = np.max(sampleArray, axis=0)\n",
    "print(\"Maximum element from axis 0:\", maxAxis0)\n",
    "\n",
    "# Find the minimum element from axis 1\n",
    "minAxis1 = np.min(sampleArray, axis=1)\n",
    "print(\"Minimum element from axis 1:\", minAxis1)\n"
   ]
  },
  {
   "cell_type": "code",
   "execution_count": 5,
   "id": "c33cb742",
   "metadata": {},
   "outputs": [
    {
     "name": "stdout",
     "output_type": "stream",
     "text": [
      "[1 3 5 7]\n"
     ]
    }
   ],
   "source": [
    "import numpy as np\n",
    "\n",
    "# Define the input arrays\n",
    "a = np.array([1, 2, 3, 2, 3, 4, 3, 4, 5, 6])\n",
    "b = np.array([7, 2, 10, 2, 7, 4, 9, 4, 9, 8])\n",
    "\n",
    "# Get the positions where elements of a and b match\n",
    "matches = np.where(a == b)[0]\n",
    "\n",
    "# Print the result\n",
    "print(matches)\n"
   ]
  },
  {
   "cell_type": "code",
   "execution_count": 6,
   "id": "a61123fd",
   "metadata": {},
   "outputs": [
    {
     "name": "stdout",
     "output_type": "stream",
     "text": [
      "Matrix c:\n",
      "[[1 2]\n",
      " [3 4]\n",
      " [5 6]\n",
      " [7 8]]\n",
      "\n",
      "Matrix d:\n",
      "[[1 2 5 6]\n",
      " [3 4 7 8]]\n"
     ]
    }
   ],
   "source": [
    "import numpy as np\n",
    "\n",
    "# Define matrices a and b\n",
    "a = np.array([[1, 2], [3, 4]])\n",
    "b = np.array([[5, 6], [7, 8]])\n",
    "\n",
    "# Obtain matrix c\n",
    "c = np.vstack((a, b))\n",
    "\n",
    "# Obtain matrix d\n",
    "d = np.hstack((a, b))\n",
    "\n",
    "# Print the resulting matrices\n",
    "print(\"Matrix c:\")\n",
    "print(c)\n",
    "print(\"\\nMatrix d:\")\n",
    "print(d)\n"
   ]
  },
  {
   "cell_type": "code",
   "execution_count": null,
   "id": "e8eed398",
   "metadata": {},
   "outputs": [],
   "source": []
  }
 ],
 "metadata": {
  "kernelspec": {
   "display_name": "Python 3 (ipykernel)",
   "language": "python",
   "name": "python3"
  },
  "language_info": {
   "codemirror_mode": {
    "name": "ipython",
    "version": 3
   },
   "file_extension": ".py",
   "mimetype": "text/x-python",
   "name": "python",
   "nbconvert_exporter": "python",
   "pygments_lexer": "ipython3",
   "version": "3.10.9"
  }
 },
 "nbformat": 4,
 "nbformat_minor": 5
}
